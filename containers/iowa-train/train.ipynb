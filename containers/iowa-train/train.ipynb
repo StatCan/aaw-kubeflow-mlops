{
 "cells": [
  {
   "cell_type": "code",
   "execution_count": null,
   "metadata": {},
   "outputs": [],
   "source": [
    "import pathlib\n",
    "import os\n",
    "import pandas as pd\n",
    "import joblib\n",
    "import yaml\n",
    "from sklearn.pipeline import Pipeline\n",
    "from sklearn.svm import SVC\n",
    "from sklearn.feature_extraction.text import TfidfVectorizer"
   ]
  },
  {
   "cell_type": "code",
   "execution_count": null,
   "metadata": {},
   "outputs": [],
   "source": [
    "print(\"Running train component\")"
   ]
  },
  {
   "cell_type": "code",
   "execution_count": null,
   "metadata": {
    "tags": [
     "parameters"
    ]
   },
   "outputs": [],
   "source": [
    "data = \"data_train.csv\"\n",
    "output_model = \"model.joblib\"\n",
    "output_params = \"params_used.yml\"\n",
    "\n",
    "svm_gamma = 0.1\n",
    "svm_c = 100\n",
    "\n",
    "create_output_directories = True\n",
    "\n",
    "# Could add TfidfTransformer settings here too"
   ]
  },
  {
   "cell_type": "code",
   "execution_count": null,
   "metadata": {},
   "outputs": [],
   "source": [
    "# Create directory for output files if not exists\n",
    "# (required as kubeflow pipelines may pass a temp filename with\n",
    "# parents that do not exist yet)\n",
    "if create_output_directories:\n",
    "    for fname in [output_model, output_params]:\n",
    "        print(f\"Creating directory for output file {fname}\")\n",
    "        dir_path = os.path.dirname(os.path.realpath(fname))\n",
    "        dir_path = pathlib.Path(dir_path)\n",
    "        dir_path.mkdir(parents=True, exist_ok=True)\n",
    "        print(f\"Directory created: {dir_path}\")"
   ]
  },
  {
   "cell_type": "code",
   "execution_count": null,
   "metadata": {},
   "outputs": [],
   "source": [
    "# Output params to file for posterity\n",
    "params = {\n",
    "    'data': data,\n",
    "    'output_model': output_model,\n",
    "    'svm_gamma': svm_gamma,\n",
    "    'svm_c': svm_c,\n",
    "}\n",
    "with open(output_params, 'w') as fout:\n",
    "    yaml.dump(params, fout)"
   ]
  },
  {
   "cell_type": "code",
   "execution_count": null,
   "metadata": {},
   "outputs": [],
   "source": [
    "FEATURE = 'text_feature'\n",
    "TARGET = 'target'"
   ]
  },
  {
   "cell_type": "code",
   "execution_count": null,
   "metadata": {},
   "outputs": [],
   "source": [
    "print(\"Reading training data\")\n",
    "df = pd.read_csv(data)"
   ]
  },
  {
   "cell_type": "code",
   "execution_count": null,
   "metadata": {},
   "outputs": [],
   "source": [
    "pl = Pipeline(\n",
    "    steps=[\n",
    "        (\"tfidf\", TfidfVectorizer(stop_words='english')),\n",
    "        (\"svm\", SVC(C=svm_c, gamma=svm_gamma, random_state=42))\n",
    "    ]\n",
    ")"
   ]
  },
  {
   "cell_type": "code",
   "execution_count": null,
   "metadata": {},
   "outputs": [],
   "source": [
    "X = df[FEATURE].to_numpy()"
   ]
  },
  {
   "cell_type": "code",
   "execution_count": null,
   "metadata": {},
   "outputs": [],
   "source": [
    "y = df[TARGET].to_numpy()"
   ]
  },
  {
   "cell_type": "code",
   "execution_count": null,
   "metadata": {},
   "outputs": [],
   "source": [
    "print(\"training pipeline\")\n",
    "pl.fit(X, y)"
   ]
  },
  {
   "cell_type": "code",
   "execution_count": null,
   "metadata": {},
   "outputs": [],
   "source": [
    "print(f\"Saving output model to {output_model}\")\n",
    "joblib.dump(pl, output_model, compress=3)"
   ]
  }
 ],
 "metadata": {
  "kernelspec": {
   "display_name": "Python 3",
   "language": "python",
   "name": "python3"
  },
  "kubeflow_notebook": {
   "autosnapshot": false,
   "docker_image": "k8scc01covidacr.azurecr.io/machine-learning-notebook-cpu:d58600076b0c188364d8651d3986ee0d37ecb4ad",
   "experiment": {
    "id": "",
    "name": ""
   },
   "experiment_name": "",
   "katib_metadata": {
    "algorithm": {
     "algorithmName": "grid"
    },
    "maxFailedTrialCount": 3,
    "maxTrialCount": 12,
    "objective": {
     "objectiveMetricName": "",
     "type": "minimize"
    },
    "parallelTrialCount": 3,
    "parameters": []
   },
   "katib_run": false,
   "pipeline_description": "",
   "pipeline_name": "",
   "snapshot_volumes": false,
   "steps_defaults": [],
   "volumes": []
  },
  "language_info": {
   "codemirror_mode": {
    "name": "ipython",
    "version": 3
   },
   "file_extension": ".py",
   "mimetype": "text/x-python",
   "name": "python",
   "nbconvert_exporter": "python",
   "pygments_lexer": "ipython3",
   "version": "3.7.6"
  }
 },
 "nbformat": 4,
 "nbformat_minor": 4
}
