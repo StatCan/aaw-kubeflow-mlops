{
 "cells": [
  {
   "cell_type": "code",
   "execution_count": 2,
   "metadata": {},
   "outputs": [],
   "source": [
    "from kfp.components import load_component_from_url"
   ]
  },
  {
   "cell_type": "markdown",
   "metadata": {
    "tags": []
   },
   "source": [
    "Components"
   ]
  },
  {
   "cell_type": "code",
   "execution_count": 6,
   "metadata": {},
   "outputs": [],
   "source": [
    "# TODO: These should be pulled from a more long-term home of \n",
    "# reusable components\n",
    "copy_to_minio_op = load_component_from_url('https://raw.githubusercontent.com/StatCan/kubeflow-mlops/scribner-iowa-staging/components/copy_to_minio.yaml')\n",
    "copy_from_minio_op = load_component_from_url('https://raw.githubusercontent.com/StatCan/kubeflow-mlops/scribner-iowa-staging/components/copy_from_minio.yaml')"
   ]
  },
  {
   "cell_type": "code",
   "execution_count": null,
   "metadata": {},
   "outputs": [],
   "source": [
    "def build_pipeline(container_tag: str = \":latest\", **kwargs):\n",
    "\n",
    "    # TODO: Add default minio creds?\n",
    "    \n",
    "    def training_pipeline(\n",
    "        data_train: str,\n",
    "        data_test: str,\n",
    "        svm_C: float,\n",
    "        svm_gamma: float,\n",
    "        output_model: str,\n",
    "        output_results: str,\n",
    "    )\n",
    "        \"\"\"\n",
    "        Pipeline for training the Iowa liquor categorization pipeline\n",
    "        \"\"\"\n",
    "\n",
    "        operations = {}\n",
    "\n",
    "        # FINISH THIS.  How do I get outputs from this?  Can't remember...  I think its just from .outputs and it knows?\n",
    "        operations['get training data'] = copy_from_minio_op(\n",
    "            minio_url=minio_url,\n",
    "            minio_access_key=minio_access_key,\n",
    "            minio_secret_key=minio_secret_key,\n",
    "            minio_source=,\n",
    "            local_destination=WHATEVER_I_WANT_TO_CALL_IT_LOCALLY,\n",
    "        )"
   ]
  }
 ],
 "metadata": {
  "kernelspec": {
   "display_name": "Python 3",
   "language": "python",
   "name": "python3"
  },
  "kubeflow_notebook": {
   "autosnapshot": false,
   "docker_image": "k8scc01covidacr.azurecr.io/minimal-notebook-cpu:d58600076b0c188364d8651d3986ee0d37ecb4ad",
   "experiment": {
    "id": "",
    "name": ""
   },
   "experiment_name": "",
   "katib_metadata": {
    "algorithm": {
     "algorithmName": "grid"
    },
    "maxFailedTrialCount": 3,
    "maxTrialCount": 12,
    "objective": {
     "objectiveMetricName": "",
     "type": "minimize"
    },
    "parallelTrialCount": 3,
    "parameters": []
   },
   "katib_run": false,
   "pipeline_description": "",
   "pipeline_name": "",
   "snapshot_volumes": false,
   "steps_defaults": [
    "label:minio-profile:true"
   ],
   "volumes": []
  },
  "language_info": {
   "codemirror_mode": {
    "name": "ipython",
    "version": 3
   },
   "file_extension": ".py",
   "mimetype": "text/x-python",
   "name": "python",
   "nbconvert_exporter": "python",
   "pygments_lexer": "ipython3",
   "version": "3.7.6"
  }
 },
 "nbformat": 4,
 "nbformat_minor": 4
}
