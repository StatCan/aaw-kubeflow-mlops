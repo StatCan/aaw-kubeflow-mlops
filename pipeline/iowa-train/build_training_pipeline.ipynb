{
 "cells": [
  {
   "cell_type": "code",
   "execution_count": 1,
   "metadata": {},
   "outputs": [],
   "source": [
    "import kfp\n",
    "from kfp import dsl\n",
    "from kfp.components import load_component_from_url, load_component_from_file"
   ]
  },
  {
   "cell_type": "markdown",
   "metadata": {},
   "source": [
    "Helpers"
   ]
  },
  {
   "cell_type": "code",
   "execution_count": 2,
   "metadata": {},
   "outputs": [],
   "source": [
    "def task_use_image(image_name):\n",
    "    \"\"\"\n",
    "    Helper to update the image used by an existing kfp task\n",
    "    \n",
    "    From https://github.com/kaizentm/kubemlops/blob/master/code/utils/kfp_helper.py\n",
    "    \n",
    "    Usage: \n",
    "      my_task = task_op_factory()\n",
    "      my_task.apply(use_image(my_image_name))\n",
    "    \"\"\"\n",
    "    def _use_image(task):\n",
    "        task.image = image_name\n",
    "        return task\n",
    "    return _use_image\n",
    "\n",
    "def component_use_image(component, image_name):\n",
    "    \"\"\"\n",
    "    Helper to update the image used by a component (eg: task factory)\n",
    "    \n",
    "    Note that this edits component in place (and copying or deepcopying\n",
    "    does not prevent that).\n",
    "    \n",
    "    Usage: \n",
    "      task_op_factory = load_component_from_url(...)\n",
    "      task_op_factory = component_use_image(component, image_name)\n",
    "    \"\"\"\n",
    "    implementation = component.component_spec.implementation.to_dict()\n",
    "    implementation['container']['image'] = image_name\n",
    "    component.component_spec.implementation = component.component_spec.implementation.from_dict(implementation)"
   ]
  },
  {
   "cell_type": "markdown",
   "metadata": {
    "tags": []
   },
   "source": [
    "Components"
   ]
  },
  {
   "cell_type": "code",
   "execution_count": 3,
   "metadata": {},
   "outputs": [],
   "source": [
    "# TODO: These should be pulled from a more long-term home of \n",
    "# reusable components\n",
    "copy_to_minio_op = load_component_from_url('https://raw.githubusercontent.com/StatCan/kubeflow-mlops/scribner-iowa-staging/components/copy_to_minio.yaml')\n",
    "copy_from_minio_op = load_component_from_url('https://raw.githubusercontent.com/StatCan/kubeflow-mlops/scribner-iowa-staging/components/copy_from_minio.yaml')"
   ]
  },
  {
   "cell_type": "code",
   "execution_count": 4,
   "metadata": {},
   "outputs": [],
   "source": [
    "# DEBUGGING ONLY.  THIS JUST GIVES ME AUTO COMPLETES IN MY NOTEBOOK\n",
    "# DELETE THIS CELL\n",
    "train_component = load_component_from_file(\"../../containers/iowa-train/component.yaml\")"
   ]
  },
  {
   "cell_type": "code",
   "execution_count": 5,
   "metadata": {},
   "outputs": [],
   "source": [
    "def build_pipeline(svm_c: float, svm_gamma: float, container_tag: str = \":latest\"):\n",
    "    \"\"\"\n",
    "    Returns a function defining a training pipeline that is pinned to op containers and model params\n",
    "    \n",
    "    This pattern makes sense if you're using CI to produce a pipeline that will recreate\n",
    "    the same trained model when fed the same data.  The resultant pipeline definition will\n",
    "    clearly show the parameters/containers used. If doing a hyperparameter search with this \n",
    "    pattern, the search must be done through the CI system (eg: make 10 branches, edit \n",
    "    params on each branch, commit each branch, they all build independent containers and \n",
    "    pipelines, then all run and report their results).\n",
    "    \n",
    "    For hyperparameter searches, a more efficient pattern might be to make the training \n",
    "    pipeine accept hyperparameters as well as dataset.  But if we do this, it means the\n",
    "    same pipeline can later be used with different args so maybe CD workflows are harder\n",
    "    to trace?  Would need to try it out.\n",
    "    \"\"\"\n",
    "    # TODO: Add default minio creds?\n",
    "    image_repo_name = \"k8scc01covidmlopsacr.azurecr.io/mlops\"\n",
    "    \n",
    "    # Use train from a template component.yaml held elsewhere.\n",
    "    # Alternatively we could define the component by:\n",
    "    # train_component = dsl.ContainerOp(\n",
    "#             \"train\",\n",
    "#             image=...,\n",
    "#             ...\n",
    "#         )\n",
    "    train_component = load_component_from_file(\"../../containers/iowa-train/component.yaml\")\n",
    "    train_component_image_name = f\"{image_repo_name}/iowa-train{container_tag}\"\n",
    "    component_use_image(train_component, train_component_image_name)\n",
    "    \n",
    "    @dsl.pipeline(\n",
    "        name=\"Iowa Liquor Training Pipeline\",\n",
    "        description=\"Trains a pipeline to classify liquor based on its name using a specific model and hyperparameters\"\n",
    "    )\n",
    "    def training_pipeline(\n",
    "        data_train: str,\n",
    "        data_test: str,\n",
    "        output_model: str,\n",
    "        output_results: str,\n",
    "        minio_url: str,\n",
    "        minio_access_key: str,\n",
    "        minio_secret_key: str,\n",
    "    ):\n",
    "        \"\"\"\n",
    "        Pipeline for training the Iowa liquor categorization pipeline\n",
    "        \"\"\"\n",
    "\n",
    "        operations = {}\n",
    "\n",
    "        operations['get training data'] = copy_from_minio_op(\n",
    "            minio_url=minio_url,\n",
    "            minio_access_key=minio_access_key,\n",
    "            minio_secret_key=minio_secret_key,\n",
    "            minio_source=data_train,\n",
    "            local_destination=\"train.csv\",\n",
    "        )\n",
    "        \n",
    "        operations['get scoring data'] = copy_from_minio_op(\n",
    "            minio_url=minio_url,\n",
    "            minio_access_key=minio_access_key,\n",
    "            minio_secret_key=minio_secret_key,\n",
    "            minio_source=data_train,\n",
    "            local_destination=\"test.csv\",\n",
    "        )\n",
    "        \n",
    "        operations['train'] = train_component(\n",
    "            data_train=operations['get training data'].output,\n",
    "            svm_gamma=svm_gamma,\n",
    "            svm_c=svm_c\n",
    "        )\n",
    "        \n",
    "    return training_pipeline"
   ]
  },
  {
   "cell_type": "code",
   "execution_count": 6,
   "metadata": {},
   "outputs": [],
   "source": [
    "# container_tag = \":latest\"\n",
    "container_tag = \":68ded7ef7e635958deeb8246eac3539e2ccbd3de\""
   ]
  },
  {
   "cell_type": "code",
   "execution_count": 7,
   "metadata": {},
   "outputs": [],
   "source": [
    "pipeline = build_pipeline(container_tag=container_tag, svm_c=110., svm_gamma=0.11)"
   ]
  },
  {
   "cell_type": "code",
   "execution_count": 8,
   "metadata": {},
   "outputs": [
    {
     "name": "stdout",
     "output_type": "stream",
     "text": [
      "type name String is different from expected: URL\n",
      "type name String is different from expected: URL\n"
     ]
    },
    {
     "name": "stderr",
     "output_type": "stream",
     "text": [
      "/opt/conda/lib/python3.7/site-packages/kfp/dsl/types.py:130: InconsistentTypeWarning: Incompatible argument passed to the input \"Minio URL\" of component \"Copy from Minio\": Argument type \"String\" is incompatible with the input type \"URL\"\n",
      "  warnings.warn(InconsistentTypeWarning(error_text))\n"
     ]
    }
   ],
   "source": [
    "pipeline_file = f\"training_pipeline.tar.gz\"  # TEMP WAY WHILE IN NOTEBOOK\n",
    "# pipeline_file = f\"{__file__}.tar.gz\"\n",
    "import kfp.compiler as compiler\n",
    "compiler = compiler.Compiler().compile(pipeline_func=pipeline, \n",
    "                                       package_path=pipeline_file,\n",
    "                                       type_check=False,  # TEMP WHILE I FIGURE OUT HOW TO USE TYPES FOR MINIO URL\n",
    "                                      )"
   ]
  },
  {
   "cell_type": "markdown",
   "metadata": {
    "tags": []
   },
   "source": [
    "DEBUG"
   ]
  },
  {
   "cell_type": "code",
   "execution_count": 9,
   "metadata": {},
   "outputs": [],
   "source": [
    "from utilities import get_minio_credentials"
   ]
  },
  {
   "cell_type": "code",
   "execution_count": 10,
   "metadata": {},
   "outputs": [
    {
     "name": "stdout",
     "output_type": "stream",
     "text": [
      "Trying to access minio credentials from:\n",
      "/vault/secrets/minio-minimal-tenant1\n"
     ]
    }
   ],
   "source": [
    "# Get minio credentials using a helper\n",
    "minio_tenant = 'minimal'\n",
    "minio_settings = get_minio_credentials(minio_tenant, strip_http=False)\n",
    "minio_url = minio_settings[\"url\"]\n",
    "minio_access_key = minio_settings[\"access_key\"]\n",
    "minio_secret_key = minio_settings[\"secret_key\"]"
   ]
  },
  {
   "cell_type": "code",
   "execution_count": 11,
   "metadata": {},
   "outputs": [],
   "source": [
    "arguments = {\n",
    "    'data_train': 'andrew-scribner/iowa/processed/train/2020-08-13_18:02:01_train.csv',\n",
    "    'data_test': '',\n",
    "    'output_model': '',\n",
    "    'output_results': '',\n",
    "    'minio_url': minio_url,\n",
    "    'minio_access_key': minio_access_key,\n",
    "    'minio_secret_key': minio_secret_key,\n",
    "}"
   ]
  },
  {
   "cell_type": "code",
   "execution_count": 12,
   "metadata": {},
   "outputs": [
    {
     "data": {
      "text/html": [
       "Experiment link <a href=\"/pipeline/#/experiments/details/745736c2-db59-4b06-bbea-94d83d30d256\" target=\"_blank\" >here</a>"
      ],
      "text/plain": [
       "<IPython.core.display.HTML object>"
      ]
     },
     "metadata": {},
     "output_type": "display_data"
    },
    {
     "data": {
      "text/html": [
       "Run link <a href=\"/pipeline/#/runs/details/7bfc04b1-e73f-47f6-a2dd-ead0176bbab6\" target=\"_blank\" >here</a>"
      ],
      "text/plain": [
       "<IPython.core.display.HTML object>"
      ]
     },
     "metadata": {},
     "output_type": "display_data"
    },
    {
     "data": {
      "text/plain": [
       "RunPipelineResult(run_id=7bfc04b1-e73f-47f6-a2dd-ead0176bbab6)"
      ]
     },
     "execution_count": 12,
     "metadata": {},
     "output_type": "execute_result"
    }
   ],
   "source": [
    "client = kfp.Client()\n",
    "client.create_run_from_pipeline_package(\n",
    "    pipeline_file=pipeline_file,\n",
    "    arguments=arguments\n",
    ")"
   ]
  },
  {
   "cell_type": "code",
   "execution_count": null,
   "metadata": {},
   "outputs": [],
   "source": []
  }
 ],
 "metadata": {
  "kernelspec": {
   "display_name": "Python 3",
   "language": "python",
   "name": "python3"
  },
  "kubeflow_notebook": {
   "autosnapshot": false,
   "docker_image": "k8scc01covidacr.azurecr.io/minimal-notebook-cpu:d58600076b0c188364d8651d3986ee0d37ecb4ad",
   "experiment": {
    "id": "",
    "name": ""
   },
   "experiment_name": "",
   "katib_metadata": {
    "algorithm": {
     "algorithmName": "grid"
    },
    "maxFailedTrialCount": 3,
    "maxTrialCount": 12,
    "objective": {
     "objectiveMetricName": "",
     "type": "minimize"
    },
    "parallelTrialCount": 3,
    "parameters": []
   },
   "katib_run": false,
   "pipeline_description": "",
   "pipeline_name": "",
   "snapshot_volumes": false,
   "steps_defaults": [
    "label:minio-profile:true"
   ],
   "volumes": []
  },
  "language_info": {
   "codemirror_mode": {
    "name": "ipython",
    "version": 3
   },
   "file_extension": ".py",
   "mimetype": "text/x-python",
   "name": "python",
   "nbconvert_exporter": "python",
   "pygments_lexer": "ipython3",
   "version": "3.7.6"
  }
 },
 "nbformat": 4,
 "nbformat_minor": 4
}
