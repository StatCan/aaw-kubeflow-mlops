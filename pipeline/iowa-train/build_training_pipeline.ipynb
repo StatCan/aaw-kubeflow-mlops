{
 "cells": [
  {
   "cell_type": "code",
   "execution_count": null,
   "metadata": {
    "papermill": {
     "duration": 0.487126,
     "end_time": "2020-08-17T19:10:17.000310",
     "exception": false,
     "start_time": "2020-08-17T19:10:16.513184",
     "status": "completed"
    },
    "tags": []
   },
   "outputs": [],
   "source": [
    "import json\n",
    "import yaml\n",
    "\n",
    "from kfp import dsl\n",
    "import kfp.compiler as compiler\n",
    "from kfp.components import load_component_from_url, load_component_from_file"
   ]
  },
  {
   "cell_type": "code",
   "execution_count": null,
   "metadata": {},
   "outputs": [],
   "source": [
    "%config IPCompleter.greedy=True"
   ]
  },
  {
   "cell_type": "markdown",
   "metadata": {
    "papermill": {
     "duration": 0.008815,
     "end_time": "2020-08-17T19:10:17.018531",
     "exception": false,
     "start_time": "2020-08-17T19:10:17.009716",
     "status": "completed"
    },
    "tags": []
   },
   "source": [
    "# Parameters"
   ]
  },
  {
   "cell_type": "markdown",
   "metadata": {
    "papermill": {
     "duration": 0.008483,
     "end_time": "2020-08-17T19:10:17.036151",
     "exception": false,
     "start_time": "2020-08-17T19:10:17.027668",
     "status": "completed"
    },
    "tags": []
   },
   "source": [
    "Next cell handled via papermill parameters"
   ]
  },
  {
   "cell_type": "code",
   "execution_count": null,
   "metadata": {
    "papermill": {
     "duration": 0.015202,
     "end_time": "2020-08-17T19:10:17.060382",
     "exception": false,
     "start_time": "2020-08-17T19:10:17.045180",
     "status": "completed"
    },
    "tags": [
     "parameters"
    ]
   },
   "outputs": [],
   "source": [
    "param_file = None\n",
    "container_tag = None\n",
    "output_pipeline_filename = \"training_pipeline.tar.gz\"\n",
    "\n",
    "github_event_ref = None\n",
    "pr_num = None\n",
    "\n",
    "# For debugging until multi-tenant working\n",
    "minio_url = \"http://minimal-tenant1-minio.minio:9000\"\n",
    "minio_access_key = \"profile-andrew-scribner-7af84d76-cdd1-6bb6-ea17-bf2f35872d03\"  # noqa: E501\n",
    "minio_secret_key = \"GYh1XnB5mCmCgdstPeNTcQxn\""
   ]
  },
  {
   "cell_type": "markdown",
   "metadata": {
    "papermill": {
     "duration": 0.008982,
     "end_time": "2020-08-17T19:10:17.101929",
     "exception": false,
     "start_time": "2020-08-17T19:10:17.092947",
     "status": "completed"
    },
    "tags": []
   },
   "source": [
    "Defaults for debugging/running locally\n",
    "\n",
    "(Will only fire if not overridden by papermill in the parameters cell)"
   ]
  },
  {
   "cell_type": "code",
   "execution_count": null,
   "metadata": {
    "papermill": {
     "duration": 0.015638,
     "end_time": "2020-08-17T19:10:17.126254",
     "exception": false,
     "start_time": "2020-08-17T19:10:17.110616",
     "status": "completed"
    },
    "tags": []
   },
   "outputs": [],
   "source": [
    "# Indicator to say we used all default values (which probably means we're\n",
    "# debugging)\n",
    "if param_file is None \\\n",
    "   and container_tag is None \\\n",
    "   and github_event_ref is None \\\n",
    "   and pr_num is None:\n",
    "    debugging = True\n",
    "else:\n",
    "    debugging = False"
   ]
  },
  {
   "cell_type": "code",
   "execution_count": null,
   "metadata": {},
   "outputs": [],
   "source": [
    "# some values for debugging\n",
    "github_event_ref = \"refs/pull/22/merge\" if github_event_ref is None else github_event_ref  # noqa: E501\n",
    "pr_num = 22 if pr_num is None else pr_num\n",
    "param_file = \"params.yml\" if param_file is None else param_file\n",
    "container_tag = \"7a8078420cb7ace889500f8864d4eec0e0114e53\" if container_tag is None else container_tag  # noqa: E501"
   ]
  },
  {
   "cell_type": "code",
   "execution_count": null,
   "metadata": {},
   "outputs": [],
   "source": [
    "with open(param_file, 'r') as fin:\n",
    "    params = yaml.safe_load(fin)\n",
    "\n",
    "svm_c = params['svm_c']\n",
    "svm_gamma = params['svm_gamma']"
   ]
  },
  {
   "cell_type": "code",
   "execution_count": null,
   "metadata": {},
   "outputs": [],
   "source": [
    "print(f\"Running with github_event_ref = {github_event_ref}\")\n",
    "print(f\"Running with pr_num = {pr_num}\")\n",
    "print(f\"Running with param_file = {param_file}\")\n",
    "print(f\"Running with svm_c = {svm_c}\")\n",
    "print(f\"Running with svm_gamma = {svm_gamma}\")\n",
    "print(f\"Running with container_tag = {container_tag}\")"
   ]
  },
  {
   "cell_type": "markdown",
   "metadata": {
    "tags": []
   },
   "source": [
    "# Fixed settings"
   ]
  },
  {
   "cell_type": "code",
   "execution_count": null,
   "metadata": {},
   "outputs": [],
   "source": [
    "callback_url = 'kubemlopsbot-svc.kubeflow.svc.cluster.local:8080'\n",
    "\n",
    "TRAIN_START_EVENT = \"Training Started\"\n",
    "TRAIN_FINISH_EVENT = \"Training Finished\""
   ]
  },
  {
   "cell_type": "markdown",
   "metadata": {
    "papermill": {
     "duration": 0.008949,
     "end_time": "2020-08-17T19:10:17.151414",
     "exception": false,
     "start_time": "2020-08-17T19:10:17.142465",
     "status": "completed"
    },
    "tags": []
   },
   "source": [
    "# Helpers"
   ]
  },
  {
   "cell_type": "code",
   "execution_count": null,
   "metadata": {
    "papermill": {
     "duration": 0.021155,
     "end_time": "2020-08-17T19:10:17.181655",
     "exception": false,
     "start_time": "2020-08-17T19:10:17.160500",
     "status": "completed"
    },
    "tags": []
   },
   "outputs": [],
   "source": [
    "def task_use_image(image_name):\n",
    "    \"\"\"\n",
    "    Helper to update the image used by an existing kfp task\n",
    "\n",
    "    From https://github.com/kaizentm/kubemlops/blob/master/code/utils/kfp_helper.py\n",
    "\n",
    "    Usage:\n",
    "      my_task = task_op_factory()\n",
    "      my_task.apply(use_image(my_image_name))\n",
    "    \"\"\"\n",
    "    def _use_image(task):\n",
    "        task.image = image_name\n",
    "        return task\n",
    "    return _use_image\n",
    "\n",
    "\n",
    "def component_use_image(component, image_name):\n",
    "    \"\"\"\n",
    "    Helper to update the image used by a component (eg: task factory)\n",
    "\n",
    "    Note that this edits component in place (and copying or deepcopying\n",
    "    does not prevent that).\n",
    "\n",
    "    Usage:\n",
    "      task_op_factory = load_component_from_url(...)\n",
    "      task_op_factory = component_use_image(component, image_name)\n",
    "    \"\"\"\n",
    "    implementation = component.component_spec.implementation.to_dict()\n",
    "    implementation['container']['image'] = image_name\n",
    "    component.component_spec.implementation = \\\n",
    "        component.component_spec.implementation.from_dict(implementation)\n",
    "\n",
    "\n",
    "def load_component_from_file_and_pin_version(component_filename,\n",
    "                                             image_repo_name, image_name, tag):\n",
    "    \"\"\"\n",
    "    Returns the given component but updated to use image repo_name/image_name:tag\n",
    "    \"\"\"\n",
    "    component = load_component_from_file(component_filename)\n",
    "    component_image_name_untagged = f\"{image_repo_name}/{image_name}\"\n",
    "    component_image_name = f\"{component_image_name_untagged.rstrip(':')}\" \\\n",
    "                           f\":{tag.lstrip(':')}\"\n",
    "    component_use_image(component, component_image_name)\n",
    "    return component\n",
    "\n",
    "\n",
    "def get_callback_payload(event_type, github_event_ref, pr_num):\n",
    "    payload = {}\n",
    "    payload['event_type'] = event_type\n",
    "    payload['sha'] = github_event_ref\n",
    "    payload['pr_num'] = pr_num\n",
    "    payload['run_id'] = dsl.RUN_ID_PLACEHOLDER\n",
    "    if (event_type == TRAIN_FINISH_EVENT):\n",
    "        payload['status'] = '{{workflow.status}}'\n",
    "    return json.dumps(payload)"
   ]
  },
  {
   "cell_type": "markdown",
   "metadata": {
    "papermill": {
     "duration": 0.00855,
     "end_time": "2020-08-17T19:10:17.199728",
     "exception": false,
     "start_time": "2020-08-17T19:10:17.191178",
     "status": "completed"
    },
    "tags": []
   },
   "source": [
    "# Components"
   ]
  },
  {
   "cell_type": "code",
   "execution_count": null,
   "metadata": {
    "papermill": {
     "duration": 0.129927,
     "end_time": "2020-08-17T19:10:17.338281",
     "exception": false,
     "start_time": "2020-08-17T19:10:17.208354",
     "status": "completed"
    },
    "tags": []
   },
   "outputs": [],
   "source": [
    "# TODO: These should be pulled from a more long-term home of\n",
    "# reusable components\n",
    "copy_to_minio_op = load_component_from_url('https://raw.githubusercontent.com/StatCan/kubeflow-mlops/scribner-iowa-pipeline/components/copy_to_minio.yaml')  # noqa: E501\n",
    "copy_from_minio_op = load_component_from_url('https://raw.githubusercontent.com/StatCan/kubeflow-mlops/scribner-iowa-pipeline/components/copy_from_minio.yaml')  # noqa: E501"
   ]
  },
  {
   "cell_type": "code",
   "execution_count": null,
   "metadata": {
    "papermill": {
     "duration": 0.032211,
     "end_time": "2020-08-17T19:10:17.380097",
     "exception": false,
     "start_time": "2020-08-17T19:10:17.347886",
     "status": "completed"
    },
    "tags": []
   },
   "outputs": [],
   "source": [
    "# DEBUGGING ONLY.  THIS JUST GIVES ME AUTO COMPLETES IN MY NOTEBOOK\n",
    "# DELETE THIS CELL\n",
    "train_component = load_component_from_file(\"../../containers/iowa-train/component.yaml\")  # noqa: E501\n",
    "score_component = load_component_from_file(\"../../containers/iowa-score/component.yaml\")  # noqa: E501"
   ]
  },
  {
   "cell_type": "code",
   "execution_count": null,
   "metadata": {},
   "outputs": [],
   "source": [
    "def get_finish_notification_op(github_event_ref, pr_num):\n",
    "    return dsl.ContainerOp(\n",
    "        name='Notify on finish',\n",
    "        image=\"curlimages/curl\",\n",
    "        command=['curl'],\n",
    "        arguments=[\n",
    "            '-d', get_callback_payload(TRAIN_FINISH_EVENT, github_event_ref,\n",
    "                                       pr_num),\n",
    "            callback_url\n",
    "        ]\n",
    "    )\n",
    "\n",
    "\n",
    "def get_start_notification_op(github_event_ref, pr_num):\n",
    "    return dsl.ContainerOp(\n",
    "        name='Notify on start',\n",
    "        image=\"curlimages/curl\",\n",
    "        command=['curl'],\n",
    "        arguments=[\n",
    "            '-d', get_callback_payload(TRAIN_START_EVENT, github_event_ref,\n",
    "                                       pr_num),\n",
    "            callback_url\n",
    "        ]\n",
    "    )\n",
    "\n",
    "\n",
    "def get_report_metrics_op(github_event_ref, pr_num, metrics):\n",
    "    # Use the CI's generic event handling to write a custom metric description\n",
    "    # TODO: Formalize this in the event_dispatcher.py?\n",
    "    event_md = f\"Metrics from scoring for runid {dsl.RUN_ID_PLACEHOLDER}:\"\n",
    "    for k, v in metrics.items():\n",
    "        event_md = event_md + f\"\\n* {k}: {v}\"\n",
    "\n",
    "    return dsl.ContainerOp(\n",
    "        name='Report metrics',\n",
    "        image=\"curlimages/curl\",\n",
    "        command=['curl'],\n",
    "        arguments=[\n",
    "            '-d', get_callback_payload(event_md, github_event_ref,\n",
    "                                       pr_num),\n",
    "            callback_url\n",
    "        ]\n",
    "    )"
   ]
  },
  {
   "cell_type": "markdown",
   "metadata": {
    "papermill": {
     "duration": 0.008328,
     "end_time": "2020-08-17T19:10:17.397479",
     "exception": false,
     "start_time": "2020-08-17T19:10:17.389151",
     "status": "completed"
    },
    "tags": []
   },
   "source": [
    "# Pipeline"
   ]
  },
  {
   "cell_type": "code",
   "execution_count": null,
   "metadata": {
    "papermill": {
     "duration": 0.023891,
     "end_time": "2020-08-17T19:10:17.430396",
     "exception": false,
     "start_time": "2020-08-17T19:10:17.406505",
     "status": "completed"
    },
    "tags": []
   },
   "outputs": [],
   "source": [
    "def build_pipeline(svm_c: float, svm_gamma: float,\n",
    "                   container_tag: str = \"latest\", github_event_ref: str = None,\n",
    "                   pr_num: int = None):\n",
    "    \"\"\"\n",
    "    Returns a training pipeline pinned to containers and model params\n",
    "\n",
    "    This pattern makes sense if you're using CI to produce a pipeline that\n",
    "    will recreate the same trained model when fed the same data.  The\n",
    "    resultant pipeline definition will clearly show the parameters/containers\n",
    "    used. If doing a hyperparameter search with this pattern, the search must\n",
    "    be done through the CI system (eg: make 10 branches, edit params on\n",
    "    each branch, commit each branch, they all build independent containers and\n",
    "    pipelines, then all run and report their results).\n",
    "\n",
    "    For hyperparameter searches, a more efficient pattern might be to make the\n",
    "    training pipeine accept hyperparameters as well as dataset.  But if we do\n",
    "    this, it means the same pipeline can later be used with different args so\n",
    "    maybe CD workflows are harder to trace?  Would need to try it out.\n",
    "    \"\"\"\n",
    "    # TODO: Add default minio creds?\n",
    "    image_repo_name = \"k8scc01covidmlopsacr.azurecr.io/mlops\"\n",
    "\n",
    "    # Set up any components that require version pinning\n",
    "\n",
    "    # Use train/score from a template component.yaml held elsewhere.\n",
    "    # Alternatively we could define the component by:\n",
    "    # train_component = dsl.ContainerOp(\n",
    "#             \"train\",\n",
    "#             image=...,\n",
    "#             ...\n",
    "#         )\n",
    "\n",
    "    train_component = load_component_from_file_and_pin_version(\n",
    "        component_filename=\"../../containers/iowa-train/component.yaml\",\n",
    "        image_repo_name=image_repo_name,\n",
    "        image_name=\"iowa-train\",\n",
    "        tag=container_tag\n",
    "    )\n",
    "\n",
    "    score_component = load_component_from_file_and_pin_version(\n",
    "        component_filename=\"../../containers/iowa-score/component.yaml\",\n",
    "        image_repo_name=image_repo_name,\n",
    "        image_name=\"iowa-score\",\n",
    "        tag=container_tag\n",
    "    )\n",
    "\n",
    "    # Define the pipeline\n",
    "    @dsl.pipeline(\n",
    "        name=\"Iowa Liquor Training Pipeline\",\n",
    "        description=\"Trains a pipeline to classify liquor based on its name using a specific model and hyperparameters\"  # noqa: E501\n",
    "    )\n",
    "    def training_pipeline(\n",
    "        data_train: str,\n",
    "        data_test: str,\n",
    "        # TODO: Handle these automatically once multitenancy is available\n",
    "        minio_url: str,\n",
    "        minio_access_key: str,\n",
    "        minio_secret_key: str,\n",
    "    ):\n",
    "        \"\"\"\n",
    "        Pipeline for training the Iowa liquor categorization pipeline\n",
    "        \"\"\"\n",
    "\n",
    "        operations = {}\n",
    "\n",
    "        exit_callback = get_finish_notification_op(github_event_ref=github_event_ref,  # noqa: E501\n",
    "                                                   pr_num=pr_num)\n",
    "        with dsl.ExitHandler(exit_callback):\n",
    "\n",
    "            start_callback = get_start_notification_op(github_event_ref=github_event_ref,  # noqa: E501\n",
    "                                                       pr_num=pr_num)\n",
    "\n",
    "            # TODO: Temporarily using .ignore_type()\n",
    "            operations['get training data'] = copy_from_minio_op(\n",
    "                minio_url=minio_url.ignore_type(),\n",
    "                minio_access_key=minio_access_key.ignore_type(),\n",
    "                minio_secret_key=minio_secret_key.ignore_type(),\n",
    "                minio_source=data_train.ignore_type(),\n",
    "            ).set_display_name(\"get training data\").after(start_callback)\n",
    "\n",
    "            operations['get scoring data'] = copy_from_minio_op(\n",
    "                minio_url=minio_url.ignore_type(),\n",
    "                minio_access_key=minio_access_key.ignore_type(),\n",
    "                minio_secret_key=minio_secret_key.ignore_type(),\n",
    "                minio_source=data_test.ignore_type(),\n",
    "            ).set_display_name(\"get scoring data\").after(start_callback)\n",
    "\n",
    "            operations['train'] = train_component(\n",
    "                data_train=operations['get training data'].output,\n",
    "                svm_gamma=svm_gamma,\n",
    "                svm_c=svm_c\n",
    "            )\n",
    "\n",
    "            operations['score'] = score_component(\n",
    "                data=operations['get scoring data'].output,\n",
    "                model=operations['train'].outputs['model'],\n",
    "            )\n",
    "\n",
    "            metrics = {\n",
    "                'f1': operations['score'].outputs['f1']\n",
    "            }\n",
    "            operations['report_score'] = get_report_metrics_op(\n",
    "                github_event_ref=github_event_ref,\n",
    "                pr_num=pr_num,\n",
    "                metrics=metrics,\n",
    "            )\n",
    "\n",
    "    return training_pipeline"
   ]
  },
  {
   "cell_type": "code",
   "execution_count": null,
   "metadata": {
    "papermill": {
     "duration": 0.034809,
     "end_time": "2020-08-17T19:10:17.473578",
     "exception": false,
     "start_time": "2020-08-17T19:10:17.438769",
     "status": "completed"
    },
    "tags": []
   },
   "outputs": [],
   "source": [
    "pipeline = build_pipeline(container_tag=container_tag,\n",
    "                          svm_c=svm_c,\n",
    "                          svm_gamma=svm_gamma,\n",
    "                          github_event_ref=github_event_ref,\n",
    "                          pr_num=pr_num\n",
    "                          )"
   ]
  },
  {
   "cell_type": "code",
   "execution_count": null,
   "metadata": {
    "papermill": {
     "duration": 0.076857,
     "end_time": "2020-08-17T19:10:17.559604",
     "exception": false,
     "start_time": "2020-08-17T19:10:17.482747",
     "status": "completed"
    },
    "tags": []
   },
   "outputs": [],
   "source": [
    "compiler = compiler.Compiler().compile(pipeline_func=pipeline,\n",
    "                                       package_path=output_pipeline_filename,\n",
    "                                       # TEMP WHILE I FIGURE OUT HOW TO USE\n",
    "                                       # TYPES FOR MINIO URL\n",
    "                                       # handled atm above by .ignore_type()\n",
    "                                       # type_check=False,\n",
    "                                       )"
   ]
  },
  {
   "cell_type": "markdown",
   "metadata": {
    "papermill": {
     "duration": 0.009486,
     "end_time": "2020-08-17T19:10:17.578521",
     "exception": false,
     "start_time": "2020-08-17T19:10:17.569035",
     "status": "completed"
    },
    "tags": []
   },
   "source": [
    "# For debugging in notebook"
   ]
  },
  {
   "cell_type": "markdown",
   "metadata": {
    "papermill": {
     "duration": 0.009432,
     "end_time": "2020-08-17T19:10:17.597297",
     "exception": false,
     "start_time": "2020-08-17T19:10:17.587865",
     "status": "completed"
    },
    "tags": []
   },
   "source": [
    "Use below code to submit the pipeline from here"
   ]
  },
  {
   "cell_type": "code",
   "execution_count": null,
   "metadata": {
    "papermill": {
     "duration": 0.202185,
     "end_time": "2020-08-17T19:10:17.808895",
     "exception": false,
     "start_time": "2020-08-17T19:10:17.606710",
     "status": "completed"
    },
    "tags": []
   },
   "outputs": [],
   "source": [
    "# # Uses debugging guard to avoid accidentally deploying ipynb with debug code\n",
    "# # in production.  Not foolproof, but better than nothing...  Should comment\n",
    "# # this block out before using in production just in case\n",
    "# if debugging:\n",
    "#     from utilities import get_minio_credentials\n",
    "\n",
    "#     # Get minio credentials using a helper\n",
    "#     minio_tenant = 'minimal'\n",
    "#     minio_settings = get_minio_credentials(minio_tenant, strip_http=False)\n",
    "#     minio_url = minio_settings[\"url\"]\n",
    "#     minio_access_key = minio_settings[\"access_key\"]\n",
    "#     minio_secret_key = minio_settings[\"secret_key\"]\n",
    "\n",
    "#     arguments = {\n",
    "#         'data_train': 'andrew-scribner/iowa/processed/train/2020-08-13_18:02:01_train.csv',  # noqa: E501\n",
    "#         'data_test': 'andrew-scribner/iowa/processed/test/2020-08-13_18:02:01_test.csv',  # noqa: E501\n",
    "#         'minio_url': minio_url,\n",
    "#         'minio_access_key': minio_access_key,\n",
    "#         'minio_secret_key': minio_secret_key,\n",
    "#     }\n",
    "\n",
    "#     import kfp\n",
    "#     client = kfp.Client()\n",
    "#     run = client.create_run_from_pipeline_package(\n",
    "#         pipeline_file=output_pipeline_filename,\n",
    "#         arguments=arguments,\n",
    "#     )"
   ]
  }
 ],
 "metadata": {
  "kernelspec": {
   "display_name": "Python 3",
   "language": "python",
   "name": "python3"
  },
  "kubeflow_notebook": {
   "autosnapshot": false,
   "docker_image": "k8scc01covidacr.azurecr.io/minimal-notebook-cpu:d58600076b0c188364d8651d3986ee0d37ecb4ad",
   "experiment": {
    "id": "",
    "name": ""
   },
   "experiment_name": "",
   "katib_metadata": {
    "algorithm": {
     "algorithmName": "grid"
    },
    "maxFailedTrialCount": 3,
    "maxTrialCount": 12,
    "objective": {
     "objectiveMetricName": "",
     "type": "minimize"
    },
    "parallelTrialCount": 3,
    "parameters": []
   },
   "katib_run": false,
   "pipeline_description": "",
   "pipeline_name": "",
   "snapshot_volumes": false,
   "steps_defaults": [
    "label:minio-profile:true"
   ],
   "volumes": []
  },
  "language_info": {
   "codemirror_mode": {
    "name": "ipython",
    "version": 3
   },
   "file_extension": ".py",
   "mimetype": "text/x-python",
   "name": "python",
   "nbconvert_exporter": "python",
   "pygments_lexer": "ipython3",
   "version": "3.7.6"
  },
  "papermill": {
   "duration": 2.647272,
   "end_time": "2020-08-17T19:10:18.234472",
   "environment_variables": {},
   "exception": null,
   "input_path": "build_training_pipeline.ipynb",
   "output_path": "completed.ipynb",
   "parameters": {
    "container_tag": 12345,
    "svm_c": 100,
    "svm_gamma": 0.1
   },
   "start_time": "2020-08-17T19:10:15.587200",
   "version": "2.1.3"
  }
 },
 "nbformat": 4,
 "nbformat_minor": 4
}
