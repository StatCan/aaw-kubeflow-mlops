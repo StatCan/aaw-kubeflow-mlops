{
 "cells": [
  {
   "cell_type": "code",
   "execution_count": 1,
   "metadata": {
    "tags": [
     "parameters"
    ]
   },
   "outputs": [],
   "source": [
    "filename_raw = \"raw_data\"\n",
    "filename_processed = \"XXXX-XX-XX_XX:XX:XX\"\n",
    "validation_size = 0.25\n",
    "test_size = 0.25"
   ]
  },
  {
   "cell_type": "code",
   "execution_count": null,
   "metadata": {},
   "outputs": [],
   "source": [
    "import pandas as pd\n",
    "from sklearn.model_selection import train_test_split"
   ]
  },
  {
   "cell_type": "code",
   "execution_count": 3,
   "metadata": {},
   "outputs": [],
   "source": [
    "# Future optional inputs\n",
    "feature_columns = ['item_name', 'vendor_name']\n",
    "target_column = 'category_name'"
   ]
  },
  {
   "cell_type": "code",
   "execution_count": 4,
   "metadata": {},
   "outputs": [],
   "source": [
    "TEXT_FEATURE = 'text_feature'\n",
    "TARGET_COLUMN = 'target'"
   ]
  },
  {
   "cell_type": "code",
   "execution_count": 5,
   "metadata": {},
   "outputs": [],
   "source": [
    "df = pd.read_csv(filename_raw, dtype=str)"
   ]
  },
  {
   "cell_type": "markdown",
   "metadata": {},
   "source": [
    "Fill empty feature columns with empty strings"
   ]
  },
  {
   "cell_type": "code",
   "execution_count": 6,
   "metadata": {},
   "outputs": [],
   "source": [
    "df.loc[:, feature_columns] = df.loc[:, feature_columns].fillna(value='')"
   ]
  },
  {
   "cell_type": "markdown",
   "metadata": {},
   "source": [
    "Concatenate all text features to a single column, trimming whitespace\n",
    "\n",
    "Select only text feature and target column"
   ]
  },
  {
   "cell_type": "code",
   "execution_count": 7,
   "metadata": {},
   "outputs": [],
   "source": [
    "df[TEXT_FEATURE] = df.apply(lambda x: \" \".join(str(text) for text in x).strip(), \n",
    "                            axis=1)\n",
    "\n",
    "df = df.rename(columns={target_column: TARGET_COLUMN})\n",
    "\n",
    "df = df[[TEXT_FEATURE, TARGET_COLUMN]]"
   ]
  },
  {
   "cell_type": "markdown",
   "metadata": {},
   "source": [
    "Drop empty targets"
   ]
  },
  {
   "cell_type": "code",
   "execution_count": 8,
   "metadata": {},
   "outputs": [],
   "source": [
    "df = df.loc[df[TARGET_COLUMN].notna()]"
   ]
  },
  {
   "cell_type": "markdown",
   "metadata": {},
   "source": [
    "Drop empty text features"
   ]
  },
  {
   "cell_type": "code",
   "execution_count": 9,
   "metadata": {},
   "outputs": [],
   "source": [
    "df = df.loc[df[TEXT_FEATURE] != '']"
   ]
  },
  {
   "cell_type": "markdown",
   "metadata": {},
   "source": [
    "Remove duplicates"
   ]
  },
  {
   "cell_type": "code",
   "execution_count": 10,
   "metadata": {},
   "outputs": [],
   "source": [
    "df.drop_duplicates(subset=TEXT_FEATURE, inplace=True)"
   ]
  },
  {
   "cell_type": "markdown",
   "metadata": {},
   "source": [
    "Drop anything with fewer than n entries"
   ]
  },
  {
   "cell_type": "code",
   "execution_count": 11,
   "metadata": {},
   "outputs": [],
   "source": [
    "n_min = 10\n",
    "# Get target names for all targets above threshold\n",
    "counts = df.groupby(TARGET_COLUMN).count()\n",
    "counts = counts[counts > 10].dropna()\n",
    "targets_above_threshold = counts.index\n",
    "\n",
    "# Filter\n",
    "df = df.loc[df[TARGET_COLUMN].isin(targets_above_threshold)]"
   ]
  },
  {
   "cell_type": "code",
   "execution_count": 12,
   "metadata": {},
   "outputs": [],
   "source": [
    "train_size = 1 - (validation_size + test_size)\n",
    "df_train, df_test_val = train_test_split(df, test_size=(validation_size + test_size), random_state=42, stratify=df[TARGET_COLUMN])\n",
    "test_fraction = test_size / (test_size + validation_size)\n",
    "df_validation, df_test = train_test_split(df_test_val, test_size=test_fraction, random_state=42, stratify=df_test_val[TARGET_COLUMN])"
   ]
  },
  {
   "cell_type": "code",
   "execution_count": 13,
   "metadata": {},
   "outputs": [],
   "source": [
    "df_train.to_csv(filename_processed + \"_train.csv\", index=False)\n",
    "df_validation.to_csv(filename_processed + \"_validation.csv\", index=False)\n",
    "df_test.to_csv(filename_processed + \"_test.csv\", index=False)"
   ]
  },
  {
   "cell_type": "code",
   "execution_count": null,
   "metadata": {},
   "outputs": [],
   "source": []
  }
 ],
 "metadata": {
  "kernelspec": {
   "display_name": "Python 3",
   "language": "python",
   "name": "python3"
  },
  "language_info": {
   "codemirror_mode": {
    "name": "ipython",
    "version": 3
   },
   "file_extension": ".py",
   "mimetype": "text/x-python",
   "name": "python",
   "nbconvert_exporter": "python",
   "pygments_lexer": "ipython3",
   "version": "3.7.6"
  }
 },
 "nbformat": 4,
 "nbformat_minor": 4
}
